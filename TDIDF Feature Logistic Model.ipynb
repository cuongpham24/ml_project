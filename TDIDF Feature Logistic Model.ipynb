{
 "cells": [
  {
   "cell_type": "code",
   "execution_count": 1,
   "metadata": {},
   "outputs": [],
   "source": [
    "import pandas as pd\n",
    "parquet_files=['book2.parquet','home2.parquet','personal_care2.parquet']\n",
    "dataframes=[pd.read_parquet(files) for files in parquet_files]\n",
    "df=pd.concat(dataframes,ignore_index=True)"
   ]
  },
  {
   "cell_type": "code",
   "execution_count": 2,
   "metadata": {},
   "outputs": [
    {
     "data": {
      "text/plain": [
       "Index(['main_category', 'title', 'features'], dtype='object')"
      ]
     },
     "execution_count": 2,
     "metadata": {},
     "output_type": "execute_result"
    }
   ],
   "source": [
    "df.columns"
   ]
  },
  {
   "cell_type": "code",
   "execution_count": 3,
   "metadata": {},
   "outputs": [
    {
     "data": {
      "text/plain": [
       "\"🌼[MEET YOUR HAIR COLOR NEEDS] Bright color, high-quality hair chalk. The comb applicators make it quick and easy to put dazzling colors into your hair. Your hair will be supple and natural, not stiff and sticky. 🌼[Shiyeen COLORFUL HAIR CHALK COMBS SET] Contains White, purple, blue, orange, pink, red, cyan, green, brown, Rose ,10 bright colors, Disposable gloves, hair dye shawl. 🌼[NON-TOXIC & EASY TO WASH] The hair chalk is non-allergenic , non-toxic and water-soluble and environmentally friendly ; apply it to hair evenly from top to bottom and washes out with ordinary shampoo and water. 🌼[USING SIMPLE] The hair chalks are perfect for going wild! Even kids are able to use them on their own super easily. With a waxy lipstick texture, DIY your hair color with your different dress-up or mood in different colors. you can keep your new look for as long as you like. ❤[Shiyeen PROMISE]100% RISK FREE PURCHASE: We're so confident about the quality of our hair chalk comb that if you have any issues, we're very happy to either provide a no-questions-asked refund or replacement. Contact us directly and we will do it.\""
      ]
     },
     "execution_count": 3,
     "metadata": {},
     "output_type": "execute_result"
    }
   ],
   "source": [
    "df['features'][0]"
   ]
  },
  {
   "cell_type": "code",
   "execution_count": 4,
   "metadata": {},
   "outputs": [],
   "source": [
    "## removing all numbers in the feature columns: \n",
    "import re\n",
    "import string\n",
    "import emoji\n",
    "def remove_punctuation(text):\n",
    "    return text.translate(str.maketrans('', '', string.punctuation))\n",
    "def remove_num(text):\n",
    "    text=remove_punctuation(text)\n",
    "    text=emoji.replace_emoji(text, replace='')\n",
    "    text=text.lower()\n",
    "    return re.sub(r'\\d+','',text)\n",
    "\n",
    "#df['features']= df['features'].apply(remove_num)\n",
    "\n"
   ]
  },
  {
   "cell_type": "code",
   "execution_count": 5,
   "metadata": {},
   "outputs": [],
   "source": [
    "## labeling the response column with numerical value\n",
    "from sklearn.preprocessing import LabelEncoder\n",
    "label_encoder=LabelEncoder()\n",
    "df['response']=label_encoder.fit_transform(df['main_category'])"
   ]
  },
  {
   "cell_type": "code",
   "execution_count": 6,
   "metadata": {},
   "outputs": [],
   "source": [
    "import spacy\n",
    "from sklearn.feature_extraction.text import TfidfVectorizer\n",
    "import pandas as pd\n",
    "\n",
    "# Load SpaCy model\n",
    "nlp = spacy.load('en_core_web_sm')\n",
    "\n",
    "# Function to lemmatize text - remove stop words\n",
    "def lemmatize_text(text):\n",
    "    doc = nlp(text)\n",
    "    return ' '.join([token.lemma_ for token in doc if not token.is_stop])"
   ]
  },
  {
   "cell_type": "code",
   "execution_count": 7,
   "metadata": {},
   "outputs": [],
   "source": [
    "from sklearn.feature_extraction.text import TfidfVectorizer\n",
    "import joblib\n",
    "# Creating embedding using TF-IDF\n",
    "#tdif=TfidfVectorizer(stop_words='english', preprocessor=lemmatize_text)  ## we can customize stop_words list as well . using default stop_words='english' has very minimal list. Instead we process stop_words and remove it using spacy  \n",
    "#X=tdif.fit_transform(df['features'])\n",
    "#joblib.dump((tdif,X), 'review_vectorizer.pkl.gz',compress=('gzip',3))"
   ]
  },
  {
   "cell_type": "code",
   "execution_count": 8,
   "metadata": {},
   "outputs": [],
   "source": [
    "#X.shape\n",
    "# Load the review embedding\n",
    "_,X=joblib.load('review_vectorizer.pkl.gz')\n",
    "\n"
   ]
  },
  {
   "cell_type": "code",
   "execution_count": 9,
   "metadata": {},
   "outputs": [
    {
     "name": "stdout",
     "output_type": "stream",
     "text": [
      "(3000000, 735850)\n"
     ]
    }
   ],
   "source": [
    "print(X.shape)"
   ]
  },
  {
   "cell_type": "code",
   "execution_count": 10,
   "metadata": {},
   "outputs": [],
   "source": [
    "# Checking dimension and num # of data being loaded\n",
    "Y=df['response']"
   ]
  },
  {
   "cell_type": "markdown",
   "metadata": {},
   "source": [
    "Splitting data into training and testing "
   ]
  },
  {
   "cell_type": "code",
   "execution_count": 11,
   "metadata": {},
   "outputs": [],
   "source": [
    "from sklearn.linear_model import LogisticRegressionCV\n",
    "from sklearn.model_selection import train_test_split\n",
    "xtrain,xtest,ytrain,ytest=train_test_split(X,Y, stratify=Y,train_size=.7,random_state=42)"
   ]
  },
  {
   "cell_type": "markdown",
   "metadata": {},
   "source": [
    "Fitting logistic with td-idf embedding and feature"
   ]
  },
  {
   "cell_type": "code",
   "execution_count": 25,
   "metadata": {},
   "outputs": [],
   "source": [
    "# train model \n",
    "#logmod_f=LogisticRegressionCV(max_iter=1000000,solver='lbfgs',multi_class='multinomial').fit(X,df['response'])\n",
    "## saving the logistic model for future use \n",
    "#joblib.dump(logmod_f,'LogisticModel_feature_tdif.pkl',compress=('gzip',3))"
   ]
  },
  {
   "cell_type": "code",
   "execution_count": 12,
   "metadata": {},
   "outputs": [],
   "source": [
    "## loading pre-train model \n",
    "import joblib\n",
    "logmod_f= joblib.load('LogisticModel_feature_tdif.pkl')"
   ]
  },
  {
   "cell_type": "code",
   "execution_count": 13,
   "metadata": {},
   "outputs": [
    {
     "name": "stdout",
     "output_type": "stream",
     "text": [
      "training error \n",
      "              precision    recall  f1-score   support\n",
      "\n",
      "           0       0.50      0.38      0.43    700000\n",
      "           1       0.95      0.77      0.85    700000\n",
      "           2       0.42      0.60      0.50    700000\n",
      "\n",
      "    accuracy                           0.58   2100000\n",
      "   macro avg       0.62      0.58      0.59   2100000\n",
      "weighted avg       0.62      0.58      0.59   2100000\n",
      "\n",
      "testing error\n",
      "              precision    recall  f1-score   support\n",
      "\n",
      "           0       0.50      0.38      0.43    300000\n",
      "           1       0.95      0.77      0.85    300000\n",
      "           2       0.42      0.60      0.50    300000\n",
      "\n",
      "    accuracy                           0.58    900000\n",
      "   macro avg       0.62      0.58      0.59    900000\n",
      "weighted avg       0.62      0.58      0.59    900000\n",
      "\n"
     ]
    }
   ],
   "source": [
    "from sklearn.metrics import classification_report\n",
    "print(\"training error \")\n",
    "print(classification_report(ytrain,logmod_f.predict(xtrain)))\n",
    "print(\"testing error\")\n",
    "print(classification_report(ytest,logmod_f.predict(xtest)))"
   ]
  },
  {
   "cell_type": "code",
   "execution_count": 17,
   "metadata": {},
   "outputs": [
    {
     "name": "stdout",
     "output_type": "stream",
     "text": [
      "[[113321   6369 180310]\n",
      " [  2062 230604  67334]\n",
      " [113392   6447 180161]]\n"
     ]
    },
    {
     "data": {
      "text/plain": [
       "Text(0.5, 1.0, 'Confusion Matrix for TD-IDF ')"
      ]
     },
     "execution_count": 17,
     "metadata": {},
     "output_type": "execute_result"
    },
    {
     "data": {
      "image/png": "[encoded data removed]",
      "text/plain": [
       "<Figure size 640x480 with 2 Axes>"
      ]
     },
     "metadata": {},
     "output_type": "display_data"
    }
   ],
   "source": [
    "from sklearn.metrics import confusion_matrix\n",
    "\n",
    "print(confusion_matrix(ytest,logmod_f.predict(xtest)))\n",
    "from matplotlib import pyplot as plt \n",
    "import seaborn as sns \n",
    "plt.figure()\n",
    "sns.heatmap(confusion_matrix(ytest,logmod_f.predict(xtest)), annot=True, fmt='d',cmap='Blues')\n",
    "plt.xlabel('Predicted Label')\n",
    "plt.ylabel(\"True Label\")\n",
    "plt.title('Confusion Matrix for TD-IDF ')"
   ]
  }
 ],
 "metadata": {
  "kernelspec": {
   "display_name": "myEnv",
   "language": "python",
   "name": "python3"
  },
  "language_info": {
   "codemirror_mode": {
    "name": "ipython",
    "version": 3
   },
   "file_extension": ".py",
   "mimetype": "text/x-python",
   "name": "python",
   "nbconvert_exporter": "python",
   "pygments_lexer": "ipython3",
   "version": "3.12.3"
  }
 },
 "nbformat": 4,
 "nbformat_minor": 2
}
