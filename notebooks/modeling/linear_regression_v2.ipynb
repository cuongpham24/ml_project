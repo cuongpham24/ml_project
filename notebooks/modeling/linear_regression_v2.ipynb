{
 "cells": [
  {
   "cell_type": "code",
   "execution_count": 12,
   "metadata": {},
   "outputs": [],
   "source": [
    "import numpy as np\n",
    "from sklearn.ensemble import RandomForestClassifier\n",
    "import pandas as pd\n",
    "from math import ceil\n",
    "from sklearn.model_selection import StratifiedShuffleSplit\n",
    "from sklearn.utils import shuffle\n",
    "from sklearn.linear_model import LogisticRegression, SGDClassifier\n",
    "from sklearn.metrics import confusion_matrix, accuracy_score, classification_report\n",
    "from numpy import load"
   ]
  },
  {
   "cell_type": "code",
   "execution_count": 2,
   "metadata": {},
   "outputs": [],
   "source": [
    "# load dict of arrays\n",
    "dict_data = load('title_full_bert.npz')\n",
    "# extract the first array\n",
    "X = dict_data['arr_0']\n",
    "\n",
    "# load dict of arrays\n",
    "dict_data = load('ytrain_label.npz')\n",
    "# extract the first array\n",
    "y = dict_data['arr_0']"
   ]
  },
  {
   "cell_type": "code",
   "execution_count": 3,
   "metadata": {},
   "outputs": [],
   "source": [
    "splitter = StratifiedShuffleSplit(n_splits=1, test_size=0.4, random_state=42)\n",
    "\n",
    "for train_idx, test_idx in splitter.split(X, y):\n",
    "    xtrain = [X[i] for i in train_idx]\n",
    "    ytrain = [y[i] for i in train_idx]\n",
    "    xtest = [X[i] for i in test_idx]\n",
    "    ytest = [y[i] for i in test_idx]\n",
    "\n",
    "xtrain = np.array(xtrain)\n",
    "ytrain = np.array(ytrain)\n",
    "xtest = np.array(xtest)\n",
    "ytest = np.array(ytest)"
   ]
  },
  {
   "cell_type": "code",
   "execution_count": 6,
   "metadata": {},
   "outputs": [],
   "source": [
    "# Train in batch:\n",
    "logmod = SGDClassifier(loss=\"log_loss\", n_jobs=-1, max_iter=1000)\n",
    "batch_size = 100000\n",
    "max_len = len(xtrain)\n",
    "num_batch = ceil(max_len / batch_size)\n",
    "for epoch in range(25):\n",
    "    X, y = shuffle(xtrain, ytrain)\n",
    "    for i in range(num_batch):\n",
    "        if i == num_batch - 1:\n",
    "            logmod.partial_fit(xtrain[i * batch_size : max_len], ytrain[i * batch_size : max_len], classes=[0, 1, 2])\n",
    "        else:\n",
    "            logmod.partial_fit(xtrain[i * batch_size : (i + 1) * batch_size], ytrain[i * batch_size : (i + 1) * batch_size], classes=[0, 1, 2])"
   ]
  },
  {
   "cell_type": "code",
   "execution_count": 8,
   "metadata": {},
   "outputs": [],
   "source": [
    "logmod = LogisticRegression(solver=\"lbfgs\", max_iter=500).fit(xtest, ytest)"
   ]
  },
  {
   "cell_type": "code",
   "execution_count": 9,
   "metadata": {},
   "outputs": [
    {
     "name": "stdout",
     "output_type": "stream",
     "text": [
      "0.961994097292444\n",
      "[[568400   2718  28849]\n",
      " [  2502 592669   4829]\n",
      " [ 24609   4898 570378]]\n"
     ]
    }
   ],
   "source": [
    "ypred = logmod.predict(xtrain)\n",
    "\n",
    "print(accuracy_score(ytrain, ypred))\n",
    "print(confusion_matrix(ytrain, ypred))"
   ]
  },
  {
   "cell_type": "code",
   "execution_count": 14,
   "metadata": {},
   "outputs": [
    {
     "name": "stdout",
     "output_type": "stream",
     "text": [
      "              precision    recall  f1-score   support\n",
      "\n",
      "           0       0.95      0.95      0.95    599967\n",
      "           1       0.99      0.99      0.99    600000\n",
      "           2       0.94      0.95      0.95    599885\n",
      "\n",
      "    accuracy                           0.96   1799852\n",
      "   macro avg       0.96      0.96      0.96   1799852\n",
      "weighted avg       0.96      0.96      0.96   1799852\n",
      "\n"
     ]
    }
   ],
   "source": [
    "print(classification_report(ytrain, ypred))"
   ]
  },
  {
   "cell_type": "code",
   "execution_count": 10,
   "metadata": {},
   "outputs": [
    {
     "data": {
      "text/plain": [
       "['../../src/models/lr_label_bert_full_60_42.joblib']"
      ]
     },
     "execution_count": 10,
     "metadata": {},
     "output_type": "execute_result"
    }
   ],
   "source": [
    "import joblib\n",
    "joblib.dump(logmod, \"../../src/models/lr_label_bert_full_60_42.joblib\", compress=3)"
   ]
  },
  {
   "cell_type": "code",
   "execution_count": null,
   "metadata": {},
   "outputs": [],
   "source": []
  }
 ],
 "metadata": {
  "kernelspec": {
   "display_name": "ds",
   "language": "python",
   "name": "python3"
  },
  "language_info": {
   "codemirror_mode": {
    "name": "ipython",
    "version": 3
   },
   "file_extension": ".py",
   "mimetype": "text/x-python",
   "name": "python",
   "nbconvert_exporter": "python",
   "pygments_lexer": "ipython3",
   "version": "3.12.4"
  }
 },
 "nbformat": 4,
 "nbformat_minor": 2
}
