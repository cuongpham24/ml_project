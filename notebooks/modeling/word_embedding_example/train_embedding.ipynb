{
 "cells": [
  {
   "cell_type": "code",
   "execution_count": 2,
   "metadata": {},
   "outputs": [
    {
     "name": "stdout",
     "output_type": "stream",
     "text": [
      "['The future king is the prince\\n', 'Daughter is the princess\\n', 'Son is the prince\\n', 'Only a man can be a king\\n', 'Only a woman can be a queen\\n', 'The princess will be a queen\\n', 'The prince is a strong man\\n', 'The princess is a beautiful woman\\n', 'Prince is only a boy now\\n', 'Prince will be king\\n', 'A boy will be a man']\n"
     ]
    }
   ],
   "source": [
    "file = open('Royal_data.txt', 'r')\n",
    "royal_data = file.readlines()\n",
    "print(royal_data)\n",
    "file.close()"
   ]
  },
  {
   "cell_type": "code",
   "execution_count": 3,
   "metadata": {},
   "outputs": [
    {
     "name": "stdout",
     "output_type": "stream",
     "text": [
      "['the future king is the prince', 'daughter is the princess', 'son is the prince', 'only a man can be a king', 'only a woman can be a queen', 'the princess will be a queen', 'the prince is a strong man', 'the princess is a beautiful woman', 'prince is only a boy now', 'prince will be king', 'a boy will be a man']\n"
     ]
    }
   ],
   "source": [
    "for i in range(len(royal_data)):\n",
    "    royal_data[i] = royal_data[i].lower().replace('\\n', '')\n",
    "\n",
    "print(royal_data)\n"
   ]
  },
  {
   "cell_type": "code",
   "execution_count": 4,
   "metadata": {},
   "outputs": [
    {
     "name": "stdout",
     "output_type": "stream",
     "text": [
      "[['future', 'king', 'prince'], ['daughter', 'princess'], ['son', 'prince'], ['man', 'king'], ['woman', 'queen'], ['princess', 'queen'], ['prince', 'strong', 'man'], ['princess', 'beautiful', 'woman'], ['prince', 'boy'], ['prince', 'king'], ['boy', 'man']]\n"
     ]
    }
   ],
   "source": [
    "stopwords = ['the', 'is', 'will', 'be', 'a', 'only', 'can', 'their', 'now', 'and', 'at', 'it']\n",
    "\n",
    "filtered_data = []\n",
    "for sent in royal_data:\n",
    "    temp = []\n",
    "    for word in sent.split():\n",
    "        if word not in stopwords:\n",
    "            temp.append(word)\n",
    "    filtered_data.append(temp)\n",
    "\n",
    "print(filtered_data)"
   ]
  },
  {
   "cell_type": "code",
   "execution_count": 5,
   "metadata": {},
   "outputs": [
    {
     "name": "stdout",
     "output_type": "stream",
     "text": [
      "[['future', 'king'], ['king', 'future'], ['future', 'prince'], ['prince', 'future'], ['king', 'prince'], ['prince', 'king'], ['daughter', 'princess'], ['princess', 'daughter'], ['son', 'prince'], ['prince', 'son'], ['man', 'king'], ['king', 'man'], ['woman', 'queen'], ['queen', 'woman'], ['princess', 'queen'], ['queen', 'princess'], ['prince', 'strong'], ['strong', 'prince'], ['prince', 'man'], ['man', 'prince'], ['strong', 'man'], ['man', 'strong'], ['princess', 'beautiful'], ['beautiful', 'princess'], ['princess', 'woman'], ['woman', 'princess'], ['beautiful', 'woman'], ['woman', 'beautiful'], ['prince', 'boy'], ['boy', 'prince'], ['prince', 'king'], ['king', 'prince'], ['boy', 'man'], ['man', 'boy']]\n"
     ]
    }
   ],
   "source": [
    "bigrams = []\n",
    "for words_list in filtered_data:\n",
    "    for i in range(len(words_list) - 1):\n",
    "        for j in range(i+1, len(words_list)):\n",
    "            bigrams.append([words_list[i], words_list[j]])\n",
    "            bigrams.append([words_list[j], words_list[i]])\n",
    "\n",
    "\n",
    "print(bigrams)"
   ]
  },
  {
   "cell_type": "code",
   "execution_count": 6,
   "metadata": {},
   "outputs": [
    {
     "name": "stdout",
     "output_type": "stream",
     "text": [
      "['beautiful', 'boy', 'daughter', 'future', 'king', 'man', 'prince', 'princess', 'queen', 'son', 'strong', 'woman']\n",
      "Total number of unique words are: 12\n"
     ]
    }
   ],
   "source": [
    "all_words = []\n",
    "for bi in bigrams:\n",
    "    all_words.extend(bi)\n",
    "\n",
    "all_words = list(set(all_words))\n",
    "all_words.sort()\n",
    "\n",
    "print(all_words)\n",
    "print(\"Total number of unique words are:\", len(all_words))"
   ]
  },
  {
   "cell_type": "code",
   "execution_count": 7,
   "metadata": {},
   "outputs": [
    {
     "name": "stdout",
     "output_type": "stream",
     "text": [
      "{'beautiful': 0, 'boy': 1, 'daughter': 2, 'future': 3, 'king': 4, 'man': 5, 'prince': 6, 'princess': 7, 'queen': 8, 'son': 9, 'strong': 10, 'woman': 11}\n"
     ]
    }
   ],
   "source": [
    "words_dict = {}\n",
    "\n",
    "counter = 0\n",
    "for word in all_words:\n",
    "    words_dict[word] = counter\n",
    "    counter += 1\n",
    "\n",
    "print(words_dict)"
   ]
  },
  {
   "cell_type": "code",
   "execution_count": 8,
   "metadata": {},
   "outputs": [
    {
     "name": "stdout",
     "output_type": "stream",
     "text": [
      "beautiful : [1. 0. 0. 0. 0. 0. 0. 0. 0. 0. 0. 0.]\n",
      "boy : [0. 1. 0. 0. 0. 0. 0. 0. 0. 0. 0. 0.]\n",
      "daughter : [0. 0. 1. 0. 0. 0. 0. 0. 0. 0. 0. 0.]\n",
      "future : [0. 0. 0. 1. 0. 0. 0. 0. 0. 0. 0. 0.]\n",
      "king : [0. 0. 0. 0. 1. 0. 0. 0. 0. 0. 0. 0.]\n",
      "man : [0. 0. 0. 0. 0. 1. 0. 0. 0. 0. 0. 0.]\n",
      "prince : [0. 0. 0. 0. 0. 0. 1. 0. 0. 0. 0. 0.]\n",
      "princess : [0. 0. 0. 0. 0. 0. 0. 1. 0. 0. 0. 0.]\n",
      "queen : [0. 0. 0. 0. 0. 0. 0. 0. 1. 0. 0. 0.]\n",
      "son : [0. 0. 0. 0. 0. 0. 0. 0. 0. 1. 0. 0.]\n",
      "strong : [0. 0. 0. 0. 0. 0. 0. 0. 0. 0. 1. 0.]\n",
      "woman : [0. 0. 0. 0. 0. 0. 0. 0. 0. 0. 0. 1.]\n"
     ]
    }
   ],
   "source": [
    "import numpy as np\n",
    "\n",
    "onehot_data = np.zeros((len(all_words), len(all_words)))\n",
    "\n",
    "for i in range(len(all_words)):\n",
    "    onehot_data[i][i] = 1\n",
    "\n",
    "onehot_dict = {}\n",
    "counter = 0\n",
    "for word in all_words:\n",
    "    onehot_dict[word] = onehot_data[counter]\n",
    "    counter += 1\n",
    "\n",
    "for word in onehot_dict:\n",
    "    print(word, \":\", onehot_dict[word])\n"
   ]
  },
  {
   "cell_type": "code",
   "execution_count": 9,
   "metadata": {},
   "outputs": [
    {
     "data": {
      "text/plain": [
       "array([[1., 0., 0., 0., 0., 0., 0., 0., 0., 0., 0., 0.],\n",
       "       [0., 1., 0., 0., 0., 0., 0., 0., 0., 0., 0., 0.],\n",
       "       [0., 0., 1., 0., 0., 0., 0., 0., 0., 0., 0., 0.],\n",
       "       [0., 0., 0., 1., 0., 0., 0., 0., 0., 0., 0., 0.],\n",
       "       [0., 0., 0., 0., 1., 0., 0., 0., 0., 0., 0., 0.],\n",
       "       [0., 0., 0., 0., 0., 1., 0., 0., 0., 0., 0., 0.],\n",
       "       [0., 0., 0., 0., 0., 0., 1., 0., 0., 0., 0., 0.],\n",
       "       [0., 0., 0., 0., 0., 0., 0., 1., 0., 0., 0., 0.],\n",
       "       [0., 0., 0., 0., 0., 0., 0., 0., 1., 0., 0., 0.],\n",
       "       [0., 0., 0., 0., 0., 0., 0., 0., 0., 1., 0., 0.],\n",
       "       [0., 0., 0., 0., 0., 0., 0., 0., 0., 0., 1., 0.],\n",
       "       [0., 0., 0., 0., 0., 0., 0., 0., 0., 0., 0., 1.]])"
      ]
     },
     "execution_count": 9,
     "metadata": {},
     "output_type": "execute_result"
    }
   ],
   "source": [
    "onehot_data"
   ]
  },
  {
   "cell_type": "code",
   "execution_count": 10,
   "metadata": {},
   "outputs": [],
   "source": [
    "X = []\n",
    "Y = []\n",
    "\n",
    "for bi in bigrams:\n",
    "    X.append(onehot_dict[bi[0]])\n",
    "    Y.append(onehot_dict[bi[1]])\n",
    "\n",
    "X = np.array(X)\n",
    "Y = np.array(Y)"
   ]
  },
  {
   "cell_type": "code",
   "execution_count": 11,
   "metadata": {},
   "outputs": [
    {
     "data": {
      "text/plain": [
       "(34, 34)"
      ]
     },
     "execution_count": 11,
     "metadata": {},
     "output_type": "execute_result"
    }
   ],
   "source": [
    "len(X), len(Y)"
   ]
  },
  {
   "cell_type": "code",
   "execution_count": 15,
   "metadata": {},
   "outputs": [],
   "source": [
    "from keras.models import Sequential\n",
    "from keras.layers import Dense\n",
    "\n",
    "embed_size = 2\n",
    "\n",
    "model = Sequential([\n",
    "    Dense(embed_size, activation='linear'),\n",
    "    Dense(Y.shape[1], activation = 'softmax')\n",
    "])\n",
    "\n",
    "model.compile(loss = 'categorical_crossentropy', optimizer = 'adam')\n",
    "\n"
   ]
  },
  {
   "cell_type": "code",
   "execution_count": 16,
   "metadata": {},
   "outputs": [
    {
     "data": {
      "text/plain": [
       "<keras.src.callbacks.history.History at 0x12ef32450>"
      ]
     },
     "execution_count": 16,
     "metadata": {},
     "output_type": "execute_result"
    }
   ],
   "source": [
    "import numpy as np\n",
    "import pandas as pd\n",
    "from tensorflow.keras.models import Sequential\n",
    "from tensorflow.keras.layers import Dense\n",
    "from tensorflow.keras.callbacks import Callback\n",
    "\n",
    "class CustomWeightsCallback(Callback):\n",
    "    def __init__(self):\n",
    "        super(CustomWeightsCallback, self).__init__()\n",
    "        self.weights_history = []\n",
    "        self.final_df = pd.DataFrame()\n",
    "\n",
    "\n",
    "    def create_list(self, row):\n",
    "        return [row[0], row[1]]\n",
    "\n",
    "    def on_epoch_end(self, epoch, logs=None):\n",
    "        # Extract weights\n",
    "        weights = self.model.get_weights()[0]\n",
    "\n",
    "        self.current_df = pd.DataFrame(weights)\n",
    "\n",
    "        self.current_df['C'] = self.current_df.apply(self.create_list, axis=1)\n",
    "        self.appended_weights = self.current_df['C'].transpose()\n",
    "        self.t_weights = pd.DataFrame([self.appended_weights])\n",
    "        self.final_df = pd.concat([self.final_df, self.t_weights])\n",
    "\n",
    "# Callback instance\n",
    "weights_callback = CustomWeightsCallback()\n",
    "\n",
    "model.fit(X, Y, epochs = 1700, batch_size = 256, callbacks=[weights_callback], verbose = False)"
   ]
  },
  {
   "cell_type": "code",
   "execution_count": 17,
   "metadata": {},
   "outputs": [
    {
     "data": {
      "text/html": [
       "<div>\n",
       "<style scoped>\n",
       "    .dataframe tbody tr th:only-of-type {\n",
       "        vertical-align: middle;\n",
       "    }\n",
       "\n",
       "    .dataframe tbody tr th {\n",
       "        vertical-align: top;\n",
       "    }\n",
       "\n",
       "    .dataframe thead th {\n",
       "        text-align: right;\n",
       "    }\n",
       "</style>\n",
       "<table border=\"1\" class=\"dataframe\">\n",
       "  <thead>\n",
       "    <tr style=\"text-align: right;\">\n",
       "      <th></th>\n",
       "      <th>beautiful</th>\n",
       "      <th>boy</th>\n",
       "      <th>daughter</th>\n",
       "      <th>future</th>\n",
       "      <th>king</th>\n",
       "      <th>man</th>\n",
       "      <th>prince</th>\n",
       "      <th>princess</th>\n",
       "      <th>queen</th>\n",
       "      <th>son</th>\n",
       "      <th>strong</th>\n",
       "      <th>woman</th>\n",
       "    </tr>\n",
       "  </thead>\n",
       "  <tbody>\n",
       "    <tr>\n",
       "      <th>0</th>\n",
       "      <td>[-0.12102807, -0.19359984]</td>\n",
       "      <td>[0.22989301, 0.29521844]</td>\n",
       "      <td>[0.05597079, -0.56903964]</td>\n",
       "      <td>[-0.493159, 0.48692074]</td>\n",
       "      <td>[-0.6521767, -0.09575916]</td>\n",
       "      <td>[-0.31492788, 0.5192276]</td>\n",
       "      <td>[0.034238037, -0.6000917]</td>\n",
       "      <td>[0.2819552, -0.568902]</td>\n",
       "      <td>[0.0921681, 0.38703182]</td>\n",
       "      <td>[0.41479647, 0.29314715]</td>\n",
       "      <td>[-0.2375487, -0.27988586]</td>\n",
       "      <td>[-0.07043228, -0.3235025]</td>\n",
       "    </tr>\n",
       "    <tr>\n",
       "      <th>1</th>\n",
       "      <td>[-0.12202754, -0.19260126]</td>\n",
       "      <td>[0.22889307, 0.29621828]</td>\n",
       "      <td>[0.054972053, -0.5680461]</td>\n",
       "      <td>[-0.49415892, 0.4879206]</td>\n",
       "      <td>[-0.6531766, -0.09475942]</td>\n",
       "      <td>[-0.31592777, 0.51822793]</td>\n",
       "      <td>[0.03323814, -0.5990919]</td>\n",
       "      <td>[0.2829553, -0.5679026]</td>\n",
       "      <td>[0.091168575, 0.38603282]</td>\n",
       "      <td>[0.41379657, 0.29414693]</td>\n",
       "      <td>[-0.23854862, -0.278886]</td>\n",
       "      <td>[-0.06943228, -0.3245025]</td>\n",
       "    </tr>\n",
       "    <tr>\n",
       "      <th>2</th>\n",
       "      <td>[-0.123026595, -0.1916037]</td>\n",
       "      <td>[0.22789307, 0.29721814]</td>\n",
       "      <td>[0.0539739, -0.56705606]</td>\n",
       "      <td>[-0.4951589, 0.48892084]</td>\n",
       "      <td>[-0.6541767, -0.09375975]</td>\n",
       "      <td>[-0.31692767, 0.51722854]</td>\n",
       "      <td>[0.032238226, -0.59809214]</td>\n",
       "      <td>[0.28395578, -0.56690377]</td>\n",
       "      <td>[0.09016941, 0.3850323]</td>\n",
       "      <td>[0.41279662, 0.29514694]</td>\n",
       "      <td>[-0.23954862, -0.27788612]</td>\n",
       "      <td>[-0.06843189, -0.32550266]</td>\n",
       "    </tr>\n",
       "    <tr>\n",
       "      <th>3</th>\n",
       "      <td>[-0.124025024, -0.19060771]</td>\n",
       "      <td>[0.226893, 0.298218]</td>\n",
       "      <td>[0.05297671, -0.5660719]</td>\n",
       "      <td>[-0.49615893, 0.48992148]</td>\n",
       "      <td>[-0.65517706, -0.09276023]</td>\n",
       "      <td>[-0.3179275, 0.5162296]</td>\n",
       "      <td>[0.031238321, -0.59709245]</td>\n",
       "      <td>[0.2849568, -0.56590575]</td>\n",
       "      <td>[0.089170784, 0.38402998]</td>\n",
       "      <td>[0.4117966, 0.29614723]</td>\n",
       "      <td>[-0.24054871, -0.2768863]</td>\n",
       "      <td>[-0.067431, -0.3265031]</td>\n",
       "    </tr>\n",
       "    <tr>\n",
       "      <th>4</th>\n",
       "      <td>[-0.12502263, -0.1896138]</td>\n",
       "      <td>[0.22589283, 0.2992179]</td>\n",
       "      <td>[0.051980812, -0.565096]</td>\n",
       "      <td>[-0.49715903, 0.49092263]</td>\n",
       "      <td>[-0.6561777, -0.091760896]</td>\n",
       "      <td>[-0.31892732, 0.5152313]</td>\n",
       "      <td>[0.030238422, -0.5960929]</td>\n",
       "      <td>[0.28595853, -0.56490886]</td>\n",
       "      <td>[0.08817288, 0.3830255]</td>\n",
       "      <td>[0.4107965, 0.2971478]</td>\n",
       "      <td>[-0.24154891, -0.27588654]</td>\n",
       "      <td>[-0.06642949, -0.32750386]</td>\n",
       "    </tr>\n",
       "    <tr>\n",
       "      <th>...</th>\n",
       "      <td>...</td>\n",
       "      <td>...</td>\n",
       "      <td>...</td>\n",
       "      <td>...</td>\n",
       "      <td>...</td>\n",
       "      <td>...</td>\n",
       "      <td>...</td>\n",
       "      <td>...</td>\n",
       "      <td>...</td>\n",
       "      <td>...</td>\n",
       "      <td>...</td>\n",
       "      <td>...</td>\n",
       "    </tr>\n",
       "    <tr>\n",
       "      <th>1695</th>\n",
       "      <td>[0.5684713, -1.639725]</td>\n",
       "      <td>[-0.4508614, 1.803106]</td>\n",
       "      <td>[0.36444855, -2.5257099]</td>\n",
       "      <td>[-1.9658855, 0.640594]</td>\n",
       "      <td>[-0.39911038, 1.5127867]</td>\n",
       "      <td>[-1.6902133, -0.3689803]</td>\n",
       "      <td>[-1.11261, -0.33845657]</td>\n",
       "      <td>[1.8694746, -0.25940433]</td>\n",
       "      <td>[0.66381544, -1.3104613]</td>\n",
       "      <td>[-0.7556462, 1.73016]</td>\n",
       "      <td>[-0.7786622, 1.388657]</td>\n",
       "      <td>[1.4423327, -1.6020522]</td>\n",
       "    </tr>\n",
       "    <tr>\n",
       "      <th>1696</th>\n",
       "      <td>[0.56809044, -1.6400591]</td>\n",
       "      <td>[-0.45065373, 1.803578]</td>\n",
       "      <td>[0.36361676, -2.5269346]</td>\n",
       "      <td>[-1.9668837, 0.640584]</td>\n",
       "      <td>[-0.39856604, 1.5128404]</td>\n",
       "      <td>[-1.6907189, -0.3687596]</td>\n",
       "      <td>[-1.1129358, -0.33858594]</td>\n",
       "      <td>[1.870108, -0.25867435]</td>\n",
       "      <td>[0.66308945, -1.3111854]</td>\n",
       "      <td>[-0.75634336, 1.7307467]</td>\n",
       "      <td>[-0.7782194, 1.3892366]</td>\n",
       "      <td>[1.4432611, -1.6023594]</td>\n",
       "    </tr>\n",
       "    <tr>\n",
       "      <th>1697</th>\n",
       "      <td>[0.56770986, -1.6403921]</td>\n",
       "      <td>[-0.45044577, 1.8040496]</td>\n",
       "      <td>[0.36278734, -2.5281577]</td>\n",
       "      <td>[-1.9678813, 0.64057606]</td>\n",
       "      <td>[-0.3980226, 1.5128931]</td>\n",
       "      <td>[-1.6912245, -0.3685393]</td>\n",
       "      <td>[-1.113261, -0.33871514]</td>\n",
       "      <td>[1.87074, -0.2579458]</td>\n",
       "      <td>[0.66236424, -1.3119088]</td>\n",
       "      <td>[-0.7570409, 1.7313337]</td>\n",
       "      <td>[-0.7777764, 1.3898154]</td>\n",
       "      <td>[1.4441898, -1.6026667]</td>\n",
       "    </tr>\n",
       "    <tr>\n",
       "      <th>1698</th>\n",
       "      <td>[0.56732965, -1.6407238]</td>\n",
       "      <td>[-0.45023748, 1.8045207]</td>\n",
       "      <td>[0.3619603, -2.5293794]</td>\n",
       "      <td>[-1.9688785, 0.6405702]</td>\n",
       "      <td>[-0.39748004, 1.5129449]</td>\n",
       "      <td>[-1.6917301, -0.36831936]</td>\n",
       "      <td>[-1.1135856, -0.33884418]</td>\n",
       "      <td>[1.8713708, -0.25721866]</td>\n",
       "      <td>[0.6616398, -1.3126317]</td>\n",
       "      <td>[-0.7577389, 1.731921]</td>\n",
       "      <td>[-0.7773333, 1.3903936]</td>\n",
       "      <td>[1.4451187, -1.6029742]</td>\n",
       "    </tr>\n",
       "    <tr>\n",
       "      <th>1699</th>\n",
       "      <td>[0.5669497, -1.6410544]</td>\n",
       "      <td>[-0.4500289, 1.8049915]</td>\n",
       "      <td>[0.3611356, -2.5305994]</td>\n",
       "      <td>[-1.9698751, 0.64056647]</td>\n",
       "      <td>[-0.39693835, 1.512996]</td>\n",
       "      <td>[-1.6922358, -0.36809978]</td>\n",
       "      <td>[-1.1139096, -0.33897308]</td>\n",
       "      <td>[1.8720003, -0.2564929]</td>\n",
       "      <td>[0.66091615, -1.313354]</td>\n",
       "      <td>[-0.7584373, 1.7325084]</td>\n",
       "      <td>[-0.7768901, 1.3909711]</td>\n",
       "      <td>[1.4460478, -1.6032817]</td>\n",
       "    </tr>\n",
       "  </tbody>\n",
       "</table>\n",
       "<p>1700 rows × 12 columns</p>\n",
       "</div>"
      ],
      "text/plain": [
       "                        beautiful                       boy  \\\n",
       "0      [-0.12102807, -0.19359984]  [0.22989301, 0.29521844]   \n",
       "1      [-0.12202754, -0.19260126]  [0.22889307, 0.29621828]   \n",
       "2      [-0.123026595, -0.1916037]  [0.22789307, 0.29721814]   \n",
       "3     [-0.124025024, -0.19060771]      [0.226893, 0.298218]   \n",
       "4       [-0.12502263, -0.1896138]   [0.22589283, 0.2992179]   \n",
       "...                           ...                       ...   \n",
       "1695       [0.5684713, -1.639725]    [-0.4508614, 1.803106]   \n",
       "1696     [0.56809044, -1.6400591]   [-0.45065373, 1.803578]   \n",
       "1697     [0.56770986, -1.6403921]  [-0.45044577, 1.8040496]   \n",
       "1698     [0.56732965, -1.6407238]  [-0.45023748, 1.8045207]   \n",
       "1699      [0.5669497, -1.6410544]   [-0.4500289, 1.8049915]   \n",
       "\n",
       "                       daughter                     future  \\\n",
       "0     [0.05597079, -0.56903964]    [-0.493159, 0.48692074]   \n",
       "1     [0.054972053, -0.5680461]   [-0.49415892, 0.4879206]   \n",
       "2      [0.0539739, -0.56705606]   [-0.4951589, 0.48892084]   \n",
       "3      [0.05297671, -0.5660719]  [-0.49615893, 0.48992148]   \n",
       "4      [0.051980812, -0.565096]  [-0.49715903, 0.49092263]   \n",
       "...                         ...                        ...   \n",
       "1695   [0.36444855, -2.5257099]     [-1.9658855, 0.640594]   \n",
       "1696   [0.36361676, -2.5269346]     [-1.9668837, 0.640584]   \n",
       "1697   [0.36278734, -2.5281577]   [-1.9678813, 0.64057606]   \n",
       "1698    [0.3619603, -2.5293794]    [-1.9688785, 0.6405702]   \n",
       "1699    [0.3611356, -2.5305994]   [-1.9698751, 0.64056647]   \n",
       "\n",
       "                            king                        man  \\\n",
       "0      [-0.6521767, -0.09575916]   [-0.31492788, 0.5192276]   \n",
       "1      [-0.6531766, -0.09475942]  [-0.31592777, 0.51822793]   \n",
       "2      [-0.6541767, -0.09375975]  [-0.31692767, 0.51722854]   \n",
       "3     [-0.65517706, -0.09276023]    [-0.3179275, 0.5162296]   \n",
       "4     [-0.6561777, -0.091760896]   [-0.31892732, 0.5152313]   \n",
       "...                          ...                        ...   \n",
       "1695    [-0.39911038, 1.5127867]   [-1.6902133, -0.3689803]   \n",
       "1696    [-0.39856604, 1.5128404]   [-1.6907189, -0.3687596]   \n",
       "1697     [-0.3980226, 1.5128931]   [-1.6912245, -0.3685393]   \n",
       "1698    [-0.39748004, 1.5129449]  [-1.6917301, -0.36831936]   \n",
       "1699     [-0.39693835, 1.512996]  [-1.6922358, -0.36809978]   \n",
       "\n",
       "                          prince                   princess  \\\n",
       "0      [0.034238037, -0.6000917]     [0.2819552, -0.568902]   \n",
       "1       [0.03323814, -0.5990919]    [0.2829553, -0.5679026]   \n",
       "2     [0.032238226, -0.59809214]  [0.28395578, -0.56690377]   \n",
       "3     [0.031238321, -0.59709245]   [0.2849568, -0.56590575]   \n",
       "4      [0.030238422, -0.5960929]  [0.28595853, -0.56490886]   \n",
       "...                          ...                        ...   \n",
       "1695     [-1.11261, -0.33845657]   [1.8694746, -0.25940433]   \n",
       "1696   [-1.1129358, -0.33858594]    [1.870108, -0.25867435]   \n",
       "1697    [-1.113261, -0.33871514]      [1.87074, -0.2579458]   \n",
       "1698   [-1.1135856, -0.33884418]   [1.8713708, -0.25721866]   \n",
       "1699   [-1.1139096, -0.33897308]    [1.8720003, -0.2564929]   \n",
       "\n",
       "                          queen                       son  \\\n",
       "0       [0.0921681, 0.38703182]  [0.41479647, 0.29314715]   \n",
       "1     [0.091168575, 0.38603282]  [0.41379657, 0.29414693]   \n",
       "2       [0.09016941, 0.3850323]  [0.41279662, 0.29514694]   \n",
       "3     [0.089170784, 0.38402998]   [0.4117966, 0.29614723]   \n",
       "4       [0.08817288, 0.3830255]    [0.4107965, 0.2971478]   \n",
       "...                         ...                       ...   \n",
       "1695   [0.66381544, -1.3104613]     [-0.7556462, 1.73016]   \n",
       "1696   [0.66308945, -1.3111854]  [-0.75634336, 1.7307467]   \n",
       "1697   [0.66236424, -1.3119088]   [-0.7570409, 1.7313337]   \n",
       "1698    [0.6616398, -1.3126317]    [-0.7577389, 1.731921]   \n",
       "1699    [0.66091615, -1.313354]   [-0.7584373, 1.7325084]   \n",
       "\n",
       "                          strong                       woman  \n",
       "0      [-0.2375487, -0.27988586]   [-0.07043228, -0.3235025]  \n",
       "1       [-0.23854862, -0.278886]   [-0.06943228, -0.3245025]  \n",
       "2     [-0.23954862, -0.27788612]  [-0.06843189, -0.32550266]  \n",
       "3      [-0.24054871, -0.2768863]     [-0.067431, -0.3265031]  \n",
       "4     [-0.24154891, -0.27588654]  [-0.06642949, -0.32750386]  \n",
       "...                          ...                         ...  \n",
       "1695      [-0.7786622, 1.388657]     [1.4423327, -1.6020522]  \n",
       "1696     [-0.7782194, 1.3892366]     [1.4432611, -1.6023594]  \n",
       "1697     [-0.7777764, 1.3898154]     [1.4441898, -1.6026667]  \n",
       "1698     [-0.7773333, 1.3903936]     [1.4451187, -1.6029742]  \n",
       "1699     [-0.7768901, 1.3909711]     [1.4460478, -1.6032817]  \n",
       "\n",
       "[1700 rows x 12 columns]"
      ]
     },
     "execution_count": 17,
     "metadata": {},
     "output_type": "execute_result"
    }
   ],
   "source": [
    "weight_matrices = weights_callback.final_df\n",
    "weight_matrices.columns = all_words\n",
    "weight_matrices.reset_index(drop='index')"
   ]
  },
  {
   "cell_type": "code",
   "execution_count": 20,
   "metadata": {},
   "outputs": [
    {
     "name": "stderr",
     "output_type": "stream",
     "text": [
      "100%|██████████| 1700/1700 [01:51<00:00, 15.23it/s]\n"
     ]
    },
    {
     "data": {
      "text/plain": [
       "<Figure size 640x480 with 0 Axes>"
      ]
     },
     "metadata": {},
     "output_type": "display_data"
    }
   ],
   "source": [
    "import matplotlib.pyplot as plt\n",
    "from tqdm import tqdm\n",
    "# plt.figure(figsize = (10, 10))\n",
    "for frame in tqdm(range(len(weight_matrices))):\n",
    "  word_embeddings = weight_matrices.iloc[frame].to_dict()\n",
    "  for word in list(words_dict.keys()):\n",
    "      coord = word_embeddings.get(word)\n",
    "      plt.scatter(coord[0], coord[1])\n",
    "      plt.annotate(word, (coord[0], coord[1]))\n",
    "\n",
    "  plt.savefig(f'img_{frame}.png')\n",
    "  plt.clf()"
   ]
  },
  {
   "cell_type": "code",
   "execution_count": 22,
   "metadata": {},
   "outputs": [
    {
     "name": "stderr",
     "output_type": "stream",
     "text": [
      "OpenCV: FFMPEG: tag 0x5634504d/'MP4V' is not supported with codec id 12 and format 'mp4 / MP4 (MPEG-4 Part 14)'\n",
      "OpenCV: FFMPEG: fallback to use tag 0x7634706d/'mp4v'\n"
     ]
    }
   ],
   "source": [
    "import cv2\n",
    "import numpy as np\n",
    "\n",
    "image_paths = [f'images/img_{frame}.png' for frame in range(len(weight_matrices))]  # Example list of image paths\n",
    "\n",
    "first_image = cv2.imread(image_paths[0])\n",
    "height, width, _ = first_image.shape\n",
    "\n",
    "fourcc = cv2.VideoWriter_fourcc(*'MP4V')\n",
    "video_writer = cv2.VideoWriter('output_video.mp4', fourcc, 15, (width, height))  # Output video file name, codec, FPS, and frame size\n",
    "\n",
    "for image_path in image_paths:\n",
    "    image = cv2.imread(image_path)\n",
    "    video_writer.write(image)\n",
    "\n",
    "#save the plot video\n",
    "video_writer.release()\n"
   ]
  },
  {
   "cell_type": "code",
   "execution_count": null,
   "metadata": {},
   "outputs": [],
   "source": []
  }
 ],
 "metadata": {
  "kernelspec": {
   "display_name": "Python 3",
   "language": "python",
   "name": "python3"
  },
  "language_info": {
   "codemirror_mode": {
    "name": "ipython",
    "version": 3
   },
   "file_extension": ".py",
   "mimetype": "text/x-python",
   "name": "python",
   "nbconvert_exporter": "python",
   "pygments_lexer": "ipython3",
   "version": "3.11.8"
  }
 },
 "nbformat": 4,
 "nbformat_minor": 2
}
