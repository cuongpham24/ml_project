{
 "cells": [
  {
   "cell_type": "code",
   "execution_count": 1,
   "metadata": {},
   "outputs": [],
   "source": [
    "import torch\n",
    "import torch.nn as nn\n",
    "import torch.optim as optim\n",
    "from torch.utils.data import DataLoader, TensorDataset, random_split\n",
    "from sklearn.metrics import accuracy_score, f1_score\n",
    "import numpy as np\n",
    "import torch.nn.functional as F\n",
    "import numpy as np\n",
    "import pandas as pd \n",
    "from math import ceil\n",
    "from numpy import load"
   ]
  },
  {
   "cell_type": "code",
   "execution_count": 2,
   "metadata": {},
   "outputs": [],
   "source": [
    "def load_emb_data(file_name):\n",
    "    # load dict of arrays\n",
    "    dict_data = load(f\"../../data/processed/{file_name}.npz\")\n",
    "    # extract the first array\n",
    "    return dict_data['arr_0']\n",
    "\n",
    "# Check if GPU is available\n",
    "device = torch.device('cuda' if torch.cuda.is_available() else 'cpu')"
   ]
  },
  {
   "cell_type": "code",
   "execution_count": 3,
   "metadata": {},
   "outputs": [],
   "source": [
    "feature_vec = load_emb_data(\"combine_feature\")\n",
    "title_vec = load_emb_data(\"combine_title\")\n",
    "index = load_emb_data(\"combine_index\")\n",
    "label = load_emb_data(\"combine_label\")"
   ]
  },
  {
   "cell_type": "code",
   "execution_count": 4,
   "metadata": {},
   "outputs": [],
   "source": [
    "class ParallelLSTMClassifier(nn.Module):\n",
    "    def __init__(self, input_size, hidden_size, lstm_hidden_size, num_classes, num_lstm_layers=3, dropout_prob=0.3):\n",
    "        super(ParallelLSTMClassifier, self).__init__()\n",
    "        \n",
    "        # Define the layers for the first path\n",
    "        self.path1_fc1 = nn.Linear(input_size, hidden_size)\n",
    "        self.path1_dropout1 = nn.Dropout(dropout_prob)\n",
    "        self.path1_fc2 = nn.Linear(hidden_size, int(hidden_size / 2))\n",
    "        self.path1_dropout2 = nn.Dropout(dropout_prob)\n",
    "        \n",
    "        # Define the layers for the second path\n",
    "        self.path2_fc1 = nn.Linear(input_size, hidden_size)\n",
    "        self.path2_dropout1 = nn.Dropout(dropout_prob)\n",
    "        self.path2_fc2 = nn.Linear(hidden_size, int(hidden_size / 2))\n",
    "        self.path2_dropout2 = nn.Dropout(dropout_prob)\n",
    "        \n",
    "        self.lstm = nn.LSTM(hidden_size, lstm_hidden_size, drop_out=0.3, batch_first=True)\n",
    "        \n",
    "        # Define the final dense layer\n",
    "        self.final_fc = nn.Linear(lstm_hidden_size, num_classes)\n",
    "        \n",
    "    def forward(self, x):\n",
    "        # Split the input into two subarrays\n",
    "        x1, x2 = x[:, 0, :], x[:, 1, :]\n",
    "        \n",
    "        # First path\n",
    "        x1 = self.path1_fc1(x1)\n",
    "        x1 = self.path1_dropout1(x1)\n",
    "        x1 = torch.relu(x1)\n",
    "        x1 = self.path1_fc2(x1)\n",
    "        x1 = self.path1_dropout2(x1)\n",
    "        x1 = torch.relu(x1)\n",
    "        \n",
    "        # Second path\n",
    "        x2 = self.path2_fc1(x2)\n",
    "        x2 = self.path2_dropout1(x2)\n",
    "        x2 = torch.relu(x2)\n",
    "        x2 = self.path2_fc2(x2)\n",
    "        x2 = self.path2_dropout2(x2)\n",
    "        x2 = torch.relu(x2)\n",
    "        \n",
    "        # Combine the outputs of the two paths\n",
    "        combined = torch.cat((x1, x2), dim=1)\n",
    "        combined = combined.unsqueeze(1)  # Add sequence length dimension\n",
    "\n",
    "        lstm_out, _ = self.lstm(combined)\n",
    "        lstm_out = lstm_out[:, -1, :]  # Get the output of the last LSTM cell\n",
    "        \n",
    "        # Final dense layer\n",
    "        out = self.final_fc(lstm_out)\n",
    "\n",
    "        # # Combine the outputs of the two paths\n",
    "        # x = torch.cat((x1, x2), dim=1)\n",
    "        # x = x.unsqueeze(1)  # Add sequence length dimension\n",
    "        \n",
    "        # # LSTM layer\n",
    "        # for lstm, dropout in zip(self.lstm_layers, self.dropout_layers):\n",
    "        #     x, _ = lstm(x)\n",
    "        #     x = dropout(x)\n",
    "        # x = x[:, -1, :]  # Get the output of the last LSTM cell\n",
    "        # # out = self.final_fc(x)\n",
    "\n",
    "        return out"
   ]
  },
  {
   "cell_type": "code",
   "execution_count": 5,
   "metadata": {},
   "outputs": [],
   "source": [
    "# Create dataset\n",
    "batch_size = 32\n",
    "inputs = torch.tensor(np.stack((title_vec, feature_vec), axis=1), dtype=torch.float32)\n",
    "targets = torch.tensor(label, dtype=torch.long)\n",
    "\n",
    "dataset = TensorDataset(inputs, targets)\n",
    "\n",
    "# Split dataset into training and testing sets (80% train, 20% test)\n",
    "train_size = int(0.8 * len(dataset))\n",
    "test_size = len(dataset) - train_size\n",
    "train_dataset, test_dataset = random_split(dataset, [train_size, test_size])\n",
    "\n",
    "# Create data loaders\n",
    "train_loader = DataLoader(train_dataset, batch_size=batch_size, shuffle=True)\n",
    "test_loader = DataLoader(test_dataset, batch_size=batch_size, shuffle=False)"
   ]
  },
  {
   "cell_type": "code",
   "execution_count": 6,
   "metadata": {},
   "outputs": [
    {
     "name": "stdout",
     "output_type": "stream",
     "text": [
      "Epoch [1/40], Loss: 0.3122\n",
      "Epoch [2/40], Loss: 0.5303\n",
      "Epoch [3/40], Loss: 0.2651\n",
      "Epoch [4/40], Loss: 0.4819\n",
      "Epoch [5/40], Loss: 0.0545\n",
      "Epoch [6/40], Loss: 0.2629\n",
      "Epoch [7/40], Loss: 0.2490\n",
      "Epoch [8/40], Loss: 0.7287\n",
      "Epoch [9/40], Loss: 0.1623\n",
      "Epoch [10/40], Loss: 0.2407\n",
      "Epoch [11/40], Loss: 0.3886\n",
      "Epoch [12/40], Loss: 0.2909\n",
      "Epoch [13/40], Loss: 0.3088\n",
      "Epoch [14/40], Loss: 0.2698\n",
      "Epoch [15/40], Loss: 0.3739\n",
      "Epoch [16/40], Loss: 0.1287\n",
      "Epoch [17/40], Loss: 0.0413\n",
      "Epoch [18/40], Loss: 0.1776\n",
      "Epoch [19/40], Loss: 0.3010\n",
      "Epoch [20/40], Loss: 0.2647\n",
      "Epoch [21/40], Loss: 0.2124\n",
      "Epoch [22/40], Loss: 0.1142\n",
      "Epoch [23/40], Loss: 0.2137\n",
      "Epoch [24/40], Loss: 0.2116\n",
      "Epoch [25/40], Loss: 0.1761\n",
      "Epoch [26/40], Loss: 0.2837\n",
      "Epoch [27/40], Loss: 0.1137\n",
      "Epoch [28/40], Loss: 0.1663\n",
      "Epoch [29/40], Loss: 0.4093\n",
      "Epoch [30/40], Loss: 0.0763\n",
      "Epoch [31/40], Loss: 0.0584\n",
      "Epoch [32/40], Loss: 0.2359\n",
      "Epoch [33/40], Loss: 0.0412\n",
      "Epoch [34/40], Loss: 0.0644\n",
      "Epoch [35/40], Loss: 0.0731\n",
      "Epoch [36/40], Loss: 0.2937\n",
      "Epoch [37/40], Loss: 0.1682\n",
      "Epoch [38/40], Loss: 0.1514\n",
      "Epoch [39/40], Loss: 0.1577\n",
      "Epoch [40/40], Loss: 0.1931\n",
      "Accuracy: 0.8783\n",
      "F1 Score: 0.8779\n"
     ]
    }
   ],
   "source": [
    "# Hyperparameters\n",
    "input_size = 768\n",
    "hidden_size = 128\n",
    "lstm_hidden_size = 64\n",
    "num_classes = 3\n",
    "dropout_prob = 0.3\n",
    "\n",
    "# Initialize the model\n",
    "model = ParallelLSTMClassifier(input_size, hidden_size, lstm_hidden_size, \n",
    "                               num_classes, dropout_prob).to(device)\n",
    "\n",
    "# Optimizer and loss function\n",
    "optimizer = optim.Adam(model.parameters(), lr=0.001)\n",
    "criterion = nn.CrossEntropyLoss()\n",
    "\n",
    "epoch_loss = []\n",
    "# Training loop\n",
    "num_epochs = 40\n",
    "# Training loop\n",
    "for epoch in range(num_epochs):\n",
    "    model.train()\n",
    "    for inputs, targets in train_loader:\n",
    "        inputs, targets = inputs.to(device), targets.to(device)\n",
    "        outputs = model(inputs)\n",
    "        loss = criterion(outputs, targets)\n",
    "        \n",
    "        optimizer.zero_grad()\n",
    "        loss.backward()\n",
    "        optimizer.step()\n",
    "\n",
    "    epoch_loss.append(loss.item())\n",
    "    print(f'Epoch [{epoch+1}/{num_epochs}], Loss: {loss.item():.4f}')\n",
    "\n",
    "# Evaluation loop\n",
    "model.eval()\n",
    "all_targets = []\n",
    "all_predictions = []\n",
    "\n",
    "with torch.no_grad():\n",
    "    for inputs, targets in test_loader:\n",
    "        inputs, targets = inputs.to(device), targets.to(device)\n",
    "        outputs = model(inputs)\n",
    "        _, predicted = torch.max(outputs, 1)\n",
    "        all_targets.extend(targets.cpu().numpy())\n",
    "        all_predictions.extend(predicted.cpu().numpy())\n",
    "\n",
    "# Calculate accuracy and F1 score\n",
    "accuracy = accuracy_score(all_targets, all_predictions)\n",
    "f1 = f1_score(all_targets, all_predictions, average='weighted')\n",
    "\n",
    "print(f'Accuracy: {accuracy:.4f}')\n",
    "print(f'F1 Score: {f1:.4f}')"
   ]
  },
  {
   "cell_type": "code",
   "execution_count": 8,
   "metadata": {},
   "outputs": [
    {
     "data": {
      "text/plain": [
       "(ParallelLSTMClassifier(\n",
       "   (path1_fc1): Linear(in_features=768, out_features=128, bias=True)\n",
       "   (path1_dropout1): Dropout(p=0.3, inplace=False)\n",
       "   (path1_fc2): Linear(in_features=128, out_features=64, bias=True)\n",
       "   (path1_dropout2): Dropout(p=0.3, inplace=False)\n",
       "   (path2_fc1): Linear(in_features=768, out_features=128, bias=True)\n",
       "   (path2_dropout1): Dropout(p=0.3, inplace=False)\n",
       "   (path2_fc2): Linear(in_features=128, out_features=64, bias=True)\n",
       "   (path2_dropout2): Dropout(p=0.3, inplace=False)\n",
       "   (lstm): LSTM(128, 64, batch_first=True)\n",
       "   (final_fc): Linear(in_features=64, out_features=3, bias=True)\n",
       " ),\n",
       " 263235)"
      ]
     },
     "execution_count": 8,
     "metadata": {},
     "output_type": "execute_result"
    }
   ],
   "source": [
    "model, sum(p.numel() for p in model.parameters())"
   ]
  },
  {
   "cell_type": "code",
   "execution_count": 9,
   "metadata": {},
   "outputs": [
    {
     "name": "stdout",
     "output_type": "stream",
     "text": [
      "              precision    recall  f1-score   support\n",
      "\n",
      "           0       0.82      0.87      0.85      2478\n",
      "           1       0.95      0.96      0.96      2504\n",
      "           2       0.86      0.80      0.83      2518\n",
      "\n",
      "    accuracy                           0.88      7500\n",
      "   macro avg       0.88      0.88      0.88      7500\n",
      "weighted avg       0.88      0.88      0.88      7500\n",
      "\n"
     ]
    },
    {
     "data": {
      "text/plain": [
       "array([[2163,   35,  280],\n",
       "       [  41, 2406,   57],\n",
       "       [ 419,   81, 2018]], dtype=int64)"
      ]
     },
     "execution_count": 9,
     "metadata": {},
     "output_type": "execute_result"
    }
   ],
   "source": [
    "from sklearn.metrics import confusion_matrix\n",
    "from sklearn.metrics import classification_report\n",
    "\n",
    "print(classification_report(all_targets, all_predictions))\n",
    "\n",
    "confusion_matrix(all_targets, all_predictions)"
   ]
  },
  {
   "cell_type": "code",
   "execution_count": 10,
   "metadata": {},
   "outputs": [
    {
     "data": {
      "image/png": "[encoded data removed]",
      "text/plain": [
       "<Figure size 640x480 with 1 Axes>"
      ]
     },
     "metadata": {},
     "output_type": "display_data"
    }
   ],
   "source": [
    "from matplotlib import pyplot as plt \n",
    "import seaborn as sns \n",
    "plt.plot(range(num_epochs), epoch_loss)\n",
    "plt.xlabel('Epoch', fontsize=12)\n",
    "plt.ylabel(\"True Label\", fontsize=12)\n",
    "plt.title('TwoPathModel Loss', fontsize=13)\n",
    "plt.savefig(\"images/twopathloss\", bbox_inches=\"tight\")"
   ]
  },
  {
   "cell_type": "code",
   "execution_count": 13,
   "metadata": {},
   "outputs": [
    {
     "data": {
      "image/png": "[encoded data removed]",
      "text/plain": [
       "<Figure size 500x400 with 2 Axes>"
      ]
     },
     "metadata": {},
     "output_type": "display_data"
    }
   ],
   "source": [
    "plt.figure(figsize=(5, 4))\n",
    "sns.heatmap(confusion_matrix(all_targets, all_predictions), annot=True, fmt='d', cmap='Blues', annot_kws={\"size\": 12})\n",
    "plt.xlabel('Predicted Label', fontsize=12)\n",
    "plt.ylabel(\"True Label\", fontsize=12)\n",
    "plt.title('TwoPathModel Statistics', fontsize=13)\n",
    "plt.savefig(\"images/twopath\", bbox_inches=\"tight\")"
   ]
  },
  {
   "cell_type": "code",
   "execution_count": 12,
   "metadata": {},
   "outputs": [],
   "source": [
    "# model_path = \"../../src/weights/nn_twopath.pth\"\n",
    "\n",
    "# # Save the model's state dictionary\n",
    "# torch.save(model.state_dict(), model_path)"
   ]
  },
  {
   "cell_type": "markdown",
   "metadata": {},
   "source": [
    "# Load trained model"
   ]
  },
  {
   "cell_type": "code",
   "execution_count": null,
   "metadata": {},
   "outputs": [
    {
     "data": {
      "text/plain": [
       "ClassificationModel(\n",
       "  (dense1): Linear(in_features=768, out_features=128, bias=True)\n",
       "  (dropout): Dropout(p=0.3, inplace=False)\n",
       "  (lstm): LSTM(128, 128, batch_first=True)\n",
       "  (dense2): Linear(in_features=128, out_features=3, bias=True)\n",
       ")"
      ]
     },
     "execution_count": 6,
     "metadata": {},
     "output_type": "execute_result"
    }
   ],
   "source": [
    "# Load the model state dictionary\n",
    "model = ClassificationModel(input_size, hidden_size, num_classes)\n",
    "model.load_state_dict(torch.load(\"../../src/models/nn_bert_title.pth\"))\n",
    "model.to(device)"
   ]
  },
  {
   "cell_type": "code",
   "execution_count": null,
   "metadata": {},
   "outputs": [],
   "source": [
    "inputs = title_bert_vec\n",
    "targets = title_label\n",
    "\n",
    "# Convert to PyTorch tensors\n",
    "inputs = torch.tensor(inputs, dtype=torch.float32)\n",
    "targets = torch.tensor(targets, dtype=torch.long)\n",
    "\n",
    "# Create dataset\n",
    "dataset = TensorDataset(inputs, targets)\n",
    "\n",
    "# Create data loaders\n",
    "batch_size = 32\n",
    "data_loader = DataLoader(dataset, batch_size=batch_size, shuffle=False)"
   ]
  },
  {
   "cell_type": "code",
   "execution_count": null,
   "metadata": {},
   "outputs": [
    {
     "name": "stdout",
     "output_type": "stream",
     "text": [
      "Accuracy: 0.9809\n",
      "F1 Score: 0.9809\n"
     ]
    }
   ],
   "source": [
    "# Evaluation loop\n",
    "model.eval()\n",
    "all_targets = []\n",
    "all_predictions = []\n",
    "\n",
    "with torch.no_grad():\n",
    "    for batch_inputs, batch_targets in data_loader:\n",
    "        batch_inputs, batch_targets = batch_inputs.to(device), batch_targets.to(device)\n",
    "        outputs = model(batch_inputs)\n",
    "        _, predicted = torch.max(outputs, 1)\n",
    "        all_targets.extend(batch_targets.cpu().numpy())\n",
    "        all_predictions.extend(predicted.cpu().numpy())\n",
    "\n",
    "# Calculate accuracy and F1 score\n",
    "accuracy = accuracy_score(all_targets, all_predictions)\n",
    "f1 = f1_score(all_targets, all_predictions, average='weighted')\n",
    "\n",
    "print(f'Accuracy: {accuracy:.4f}')\n",
    "print(f'F1 Score: {f1:.4f}')"
   ]
  }
 ],
 "metadata": {
  "kernelspec": {
   "display_name": "ds",
   "language": "python",
   "name": "python3"
  },
  "language_info": {
   "codemirror_mode": {
    "name": "ipython",
    "version": 3
   },
   "file_extension": ".py",
   "mimetype": "text/x-python",
   "name": "python",
   "nbconvert_exporter": "python",
   "pygments_lexer": "ipython3",
   "version": "3.12.4"
  }
 },
 "nbformat": 4,
 "nbformat_minor": 2
}
