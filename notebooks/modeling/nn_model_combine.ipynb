{
 "cells": [
  {
   "cell_type": "code",
   "execution_count": 1,
   "metadata": {},
   "outputs": [],
   "source": [
    "from transformers import DistilBertTokenizerFast, DistilBertModel\n",
    "import torch\n",
    "import torch.nn as nn\n",
    "import torch.optim as optim\n",
    "from torch.utils.data import DataLoader, TensorDataset, random_split\n",
    "from sklearn.metrics import accuracy_score, f1_score\n",
    "import numpy as np\n",
    "import torch.nn.functional as F\n",
    "import numpy as np\n",
    "import pandas as pd \n",
    "from math import ceil\n",
    "from numpy import load"
   ]
  },
  {
   "cell_type": "code",
   "execution_count": 2,
   "metadata": {},
   "outputs": [],
   "source": [
    "def load_emb_data(file_name):\n",
    "    # load dict of arrays\n",
    "    dict_data = load(f\"../../data/processed/{file_name}.npz\")\n",
    "    # extract the first array\n",
    "    return dict_data['arr_0']\n",
    "\n",
    "# Check if GPU is available\n",
    "device = torch.device('cuda' if torch.cuda.is_available() else 'cpu')"
   ]
  },
  {
   "cell_type": "code",
   "execution_count": 3,
   "metadata": {},
   "outputs": [],
   "source": [
    "feature_vec = load_emb_data(\"combine_feature\")\n",
    "title_vec = load_emb_data(\"combine_title\")\n",
    "index = load_emb_data(\"combine_index\")\n",
    "label = load_emb_data(\"combine_label\")"
   ]
  },
  {
   "cell_type": "code",
   "execution_count": 48,
   "metadata": {},
   "outputs": [],
   "source": [
    "class ParallelLSTMClassifier(nn.Module):\n",
    "    def __init__(self, input_size, hidden_size, lstm_hidden_size, num_classes, num_lstm_layers=3, dropout_prob=0.3):\n",
    "        super(ParallelLSTMClassifier, self).__init__()\n",
    "        \n",
    "        # Define the layers for the first path\n",
    "        self.path1_fc1 = nn.Linear(input_size, hidden_size)\n",
    "        self.path1_dropout1 = nn.Dropout(dropout_prob)\n",
    "        self.path1_fc2 = nn.Linear(hidden_size, int(hidden_size / 2))\n",
    "        self.path1_dropout2 = nn.Dropout(dropout_prob)\n",
    "        \n",
    "        # Define the layers for the second path\n",
    "        self.path2_fc1 = nn.Linear(input_size, hidden_size)\n",
    "        self.path2_dropout1 = nn.Dropout(dropout_prob)\n",
    "        self.path2_fc2 = nn.Linear(hidden_size, int(hidden_size / 2))\n",
    "        self.path2_dropout2 = nn.Dropout(dropout_prob)\n",
    "        \n",
    "        # Define the LSTM layer\n",
    "        # self.lstm_layers = nn.ModuleList()\n",
    "        # self.dropout_layers = nn.ModuleList()\n",
    "        # for _ in range(num_lstm_layers):\n",
    "        #     self.lstm_layers.append(nn.LSTM(hidden_size * 2, hidden_size, batch_first=True))\n",
    "        #     self.dropout_layers.append(nn.Dropout(0.3))\n",
    "        \n",
    "        # self.dense2 = nn.Linear(hidden_size, num_classes)\n",
    "\n",
    "        # self.lstm = nn.LSTM(hidden_size * 2, lstm_hidden_size, num_layers=3, dropout=0.3, batch_first=True)\n",
    "        self.lstm = nn.LSTM(hidden_size, lstm_hidden_size, num_layers=3, dropout=0.3, batch_first=True)\n",
    "        \n",
    "        # Define the final dense layer\n",
    "        self.final_fc = nn.Linear(lstm_hidden_size, num_classes)\n",
    "        \n",
    "    def forward(self, x):\n",
    "        # Split the input into two subarrays\n",
    "        x1, x2 = x[:, 0, :], x[:, 1, :]\n",
    "        \n",
    "        # First path\n",
    "        x1 = self.path1_fc1(x1)\n",
    "        x1 = self.path1_dropout1(x1)\n",
    "        x1 = torch.relu(x1)\n",
    "        x1 = self.path1_fc2(x1)\n",
    "        x1 = self.path1_dropout2(x1)\n",
    "        x1 = torch.relu(x1)\n",
    "        \n",
    "        # Second path\n",
    "        x2 = self.path2_fc1(x2)\n",
    "        x2 = self.path2_dropout1(x2)\n",
    "        x2 = torch.relu(x2)\n",
    "        x2 = self.path2_fc2(x2)\n",
    "        x2 = self.path2_dropout2(x2)\n",
    "        x2 = torch.relu(x2)\n",
    "        \n",
    "        # Combine the outputs of the two paths\n",
    "        combined = torch.cat((x1, x2), dim=1)\n",
    "        combined = combined.unsqueeze(1)  # Add sequence length dimension\n",
    "\n",
    "        lstm_out, _ = self.lstm(combined)\n",
    "        lstm_out = lstm_out[:, -1, :]  # Get the output of the last LSTM cell\n",
    "        \n",
    "        # Final dense layer\n",
    "        out = self.final_fc(lstm_out)\n",
    "\n",
    "        # # Combine the outputs of the two paths\n",
    "        # x = torch.cat((x1, x2), dim=1)\n",
    "        # x = x.unsqueeze(1)  # Add sequence length dimension\n",
    "        \n",
    "        # # LSTM layer\n",
    "        # for lstm, dropout in zip(self.lstm_layers, self.dropout_layers):\n",
    "        #     x, _ = lstm(x)\n",
    "        #     x = dropout(x)\n",
    "        # x = x[:, -1, :]  # Get the output of the last LSTM cell\n",
    "        # # out = self.final_fc(x)\n",
    "\n",
    "        return out"
   ]
  },
  {
   "cell_type": "code",
   "execution_count": 49,
   "metadata": {},
   "outputs": [],
   "source": [
    "# Create dataset\n",
    "batch_size = 32\n",
    "inputs = torch.tensor(np.stack((title_vec, feature_vec), axis=1), dtype=torch.float32)\n",
    "targets = torch.tensor(label, dtype=torch.long)\n",
    "\n",
    "dataset = TensorDataset(inputs, targets)\n",
    "\n",
    "# Split dataset into training and testing sets (80% train, 20% test)\n",
    "train_size = int(0.8 * len(dataset))\n",
    "test_size = len(dataset) - train_size\n",
    "train_dataset, test_dataset = random_split(dataset, [train_size, test_size])\n",
    "\n",
    "# Create data loaders\n",
    "train_loader = DataLoader(train_dataset, batch_size=batch_size, shuffle=True)\n",
    "test_loader = DataLoader(test_dataset, batch_size=batch_size, shuffle=False)"
   ]
  },
  {
   "cell_type": "code",
   "execution_count": 50,
   "metadata": {},
   "outputs": [
    {
     "name": "stdout",
     "output_type": "stream",
     "text": [
      "Epoch [1/75], Loss: 0.3513\n",
      "Epoch [2/75], Loss: 0.0557\n",
      "Epoch [3/75], Loss: 0.2428\n",
      "Epoch [4/75], Loss: 0.5779\n",
      "Epoch [5/75], Loss: 0.3174\n",
      "Epoch [6/75], Loss: 0.1347\n",
      "Epoch [7/75], Loss: 0.2390\n",
      "Epoch [8/75], Loss: 0.4163\n",
      "Epoch [9/75], Loss: 0.2016\n",
      "Epoch [10/75], Loss: 0.1599\n",
      "Epoch [11/75], Loss: 0.2639\n",
      "Epoch [12/75], Loss: 0.6175\n",
      "Epoch [13/75], Loss: 0.0996\n",
      "Epoch [14/75], Loss: 0.1604\n",
      "Epoch [15/75], Loss: 0.1087\n",
      "Epoch [16/75], Loss: 0.3207\n",
      "Epoch [17/75], Loss: 0.1346\n",
      "Epoch [18/75], Loss: 0.1590\n",
      "Epoch [19/75], Loss: 0.0266\n",
      "Epoch [20/75], Loss: 0.4836\n",
      "Epoch [21/75], Loss: 0.2472\n",
      "Epoch [22/75], Loss: 0.1887\n",
      "Epoch [23/75], Loss: 0.1093\n",
      "Epoch [24/75], Loss: 0.2671\n",
      "Epoch [25/75], Loss: 0.0468\n",
      "Epoch [26/75], Loss: 0.1075\n",
      "Epoch [27/75], Loss: 0.1826\n",
      "Epoch [28/75], Loss: 0.2489\n",
      "Epoch [29/75], Loss: 0.0337\n",
      "Epoch [30/75], Loss: 0.0512\n",
      "Epoch [31/75], Loss: 0.1299\n",
      "Epoch [32/75], Loss: 0.3195\n",
      "Epoch [33/75], Loss: 0.0520\n",
      "Epoch [34/75], Loss: 0.1287\n",
      "Epoch [35/75], Loss: 0.0357\n",
      "Epoch [36/75], Loss: 0.0779\n",
      "Epoch [37/75], Loss: 0.0605\n",
      "Epoch [38/75], Loss: 0.0684\n",
      "Epoch [39/75], Loss: 0.0953\n",
      "Epoch [40/75], Loss: 0.2041\n",
      "Epoch [41/75], Loss: 0.1125\n",
      "Epoch [42/75], Loss: 0.0167\n",
      "Epoch [43/75], Loss: 0.2193\n",
      "Epoch [44/75], Loss: 0.0087\n",
      "Epoch [45/75], Loss: 0.1114\n",
      "Epoch [46/75], Loss: 0.1940\n",
      "Epoch [47/75], Loss: 0.0272\n",
      "Epoch [48/75], Loss: 0.0798\n",
      "Epoch [49/75], Loss: 0.3419\n",
      "Epoch [50/75], Loss: 0.2154\n",
      "Epoch [51/75], Loss: 0.0047\n",
      "Epoch [52/75], Loss: 0.0219\n",
      "Epoch [53/75], Loss: 0.0167\n",
      "Epoch [54/75], Loss: 0.0173\n",
      "Epoch [55/75], Loss: 0.0563\n",
      "Epoch [56/75], Loss: 0.0825\n",
      "Epoch [57/75], Loss: 0.3563\n",
      "Epoch [58/75], Loss: 0.2220\n",
      "Epoch [59/75], Loss: 0.0222\n",
      "Epoch [60/75], Loss: 0.1832\n",
      "Epoch [61/75], Loss: 0.0042\n",
      "Epoch [62/75], Loss: 0.1240\n",
      "Epoch [63/75], Loss: 0.1225\n",
      "Epoch [64/75], Loss: 0.0310\n",
      "Epoch [65/75], Loss: 0.0493\n",
      "Epoch [66/75], Loss: 0.1035\n",
      "Epoch [67/75], Loss: 0.1239\n",
      "Epoch [68/75], Loss: 0.0278\n",
      "Epoch [69/75], Loss: 0.0127\n",
      "Epoch [70/75], Loss: 0.0969\n",
      "Epoch [71/75], Loss: 0.0048\n",
      "Epoch [72/75], Loss: 0.0366\n",
      "Epoch [73/75], Loss: 0.0695\n",
      "Epoch [74/75], Loss: 0.0091\n",
      "Epoch [75/75], Loss: 0.0131\n",
      "Accuracy: 0.8773\n",
      "F1 Score: 0.8767\n"
     ]
    }
   ],
   "source": [
    "# Hyperparameters\n",
    "input_size = 768\n",
    "hidden_size = 512\n",
    "lstm_hidden_size = 256\n",
    "num_classes = 3\n",
    "dropout_prob = 0.3\n",
    "\n",
    "# Initialize the model\n",
    "model = ParallelLSTMClassifier(input_size, hidden_size, lstm_hidden_size, \n",
    "                               num_classes, dropout_prob).to(device)\n",
    "\n",
    "# Optimizer and loss function\n",
    "optimizer = optim.Adam(model.parameters(), lr=0.001)\n",
    "criterion = nn.CrossEntropyLoss()\n",
    "\n",
    "# Training loop\n",
    "num_epochs = 75\n",
    "# Training loop\n",
    "for epoch in range(num_epochs):\n",
    "    model.train()\n",
    "    for inputs, targets in train_loader:\n",
    "        inputs, targets = inputs.to(device), targets.to(device)\n",
    "        outputs = model(inputs)\n",
    "        loss = criterion(outputs, targets)\n",
    "        \n",
    "        optimizer.zero_grad()\n",
    "        loss.backward()\n",
    "        optimizer.step()\n",
    "\n",
    "    print(f'Epoch [{epoch+1}/{num_epochs}], Loss: {loss.item():.4f}')\n",
    "\n",
    "# Evaluation loop\n",
    "model.eval()\n",
    "all_targets = []\n",
    "all_predictions = []\n",
    "\n",
    "with torch.no_grad():\n",
    "    for inputs, targets in test_loader:\n",
    "        inputs, targets = inputs.to(device), targets.to(device)\n",
    "        outputs = model(inputs)\n",
    "        _, predicted = torch.max(outputs, 1)\n",
    "        all_targets.extend(targets.cpu().numpy())\n",
    "        all_predictions.extend(predicted.cpu().numpy())\n",
    "\n",
    "# Calculate accuracy and F1 score\n",
    "accuracy = accuracy_score(all_targets, all_predictions)\n",
    "f1 = f1_score(all_targets, all_predictions, average='weighted')\n",
    "\n",
    "print(f'Accuracy: {accuracy:.4f}')\n",
    "print(f'F1 Score: {f1:.4f}')"
   ]
  },
  {
   "cell_type": "code",
   "execution_count": 52,
   "metadata": {},
   "outputs": [
    {
     "data": {
      "text/plain": [
       "array([[2177,   47,  283],\n",
       "       [  23, 2377,   64],\n",
       "       [ 402,  101, 2026]], dtype=int64)"
      ]
     },
     "execution_count": 52,
     "metadata": {},
     "output_type": "execute_result"
    }
   ],
   "source": [
    "from sklearn.metrics import confusion_matrix\n",
    "\n",
    "\n",
    "confusion_matrix(all_targets, all_predictions)"
   ]
  },
  {
   "cell_type": "code",
   "execution_count": 53,
   "metadata": {},
   "outputs": [
    {
     "name": "stdout",
     "output_type": "stream",
     "text": [
      "              precision    recall  f1-score   support\n",
      "\n",
      "           0       0.84      0.87      0.85      2507\n",
      "           1       0.94      0.96      0.95      2464\n",
      "           2       0.85      0.80      0.83      2529\n",
      "\n",
      "    accuracy                           0.88      7500\n",
      "   macro avg       0.88      0.88      0.88      7500\n",
      "weighted avg       0.88      0.88      0.88      7500\n",
      "\n"
     ]
    }
   ],
   "source": [
    "from sklearn.metrics import classification_report\n",
    "\n",
    "\n",
    "print(classification_report(all_targets, all_predictions))"
   ]
  },
  {
   "cell_type": "code",
   "execution_count": 29,
   "metadata": {},
   "outputs": [],
   "source": [
    "# model_path = \"../../src/models/nn_bert_feature.pth\"\n",
    "\n",
    "# # Save the model's state dictionary\n",
    "# torch.save(model.state_dict(), model_path)"
   ]
  },
  {
   "cell_type": "markdown",
   "metadata": {},
   "source": [
    "# Load trained model"
   ]
  },
  {
   "cell_type": "code",
   "execution_count": 6,
   "metadata": {},
   "outputs": [
    {
     "data": {
      "text/plain": [
       "ClassificationModel(\n",
       "  (dense1): Linear(in_features=768, out_features=128, bias=True)\n",
       "  (dropout): Dropout(p=0.3, inplace=False)\n",
       "  (lstm): LSTM(128, 128, batch_first=True)\n",
       "  (dense2): Linear(in_features=128, out_features=3, bias=True)\n",
       ")"
      ]
     },
     "execution_count": 6,
     "metadata": {},
     "output_type": "execute_result"
    }
   ],
   "source": [
    "# Load the model state dictionary\n",
    "model = ClassificationModel(input_size, hidden_size, num_classes)\n",
    "model.load_state_dict(torch.load(\"../../src/models/nn_bert_title.pth\"))\n",
    "model.to(device)"
   ]
  },
  {
   "cell_type": "code",
   "execution_count": 7,
   "metadata": {},
   "outputs": [],
   "source": [
    "inputs = title_bert_vec\n",
    "targets = title_label\n",
    "\n",
    "# Convert to PyTorch tensors\n",
    "inputs = torch.tensor(inputs, dtype=torch.float32)\n",
    "targets = torch.tensor(targets, dtype=torch.long)\n",
    "\n",
    "# Create dataset\n",
    "dataset = TensorDataset(inputs, targets)\n",
    "\n",
    "# Create data loaders\n",
    "batch_size = 32\n",
    "data_loader = DataLoader(dataset, batch_size=batch_size, shuffle=False)"
   ]
  },
  {
   "cell_type": "code",
   "execution_count": 8,
   "metadata": {},
   "outputs": [
    {
     "name": "stdout",
     "output_type": "stream",
     "text": [
      "Accuracy: 0.9809\n",
      "F1 Score: 0.9809\n"
     ]
    }
   ],
   "source": [
    "# Evaluation loop\n",
    "model.eval()\n",
    "all_targets = []\n",
    "all_predictions = []\n",
    "\n",
    "with torch.no_grad():\n",
    "    for batch_inputs, batch_targets in data_loader:\n",
    "        batch_inputs, batch_targets = batch_inputs.to(device), batch_targets.to(device)\n",
    "        outputs = model(batch_inputs)\n",
    "        _, predicted = torch.max(outputs, 1)\n",
    "        all_targets.extend(batch_targets.cpu().numpy())\n",
    "        all_predictions.extend(predicted.cpu().numpy())\n",
    "\n",
    "# Calculate accuracy and F1 score\n",
    "accuracy = accuracy_score(all_targets, all_predictions)\n",
    "f1 = f1_score(all_targets, all_predictions, average='weighted')\n",
    "\n",
    "print(f'Accuracy: {accuracy:.4f}')\n",
    "print(f'F1 Score: {f1:.4f}')"
   ]
  }
 ],
 "metadata": {
  "kernelspec": {
   "display_name": "ds",
   "language": "python",
   "name": "python3"
  },
  "language_info": {
   "codemirror_mode": {
    "name": "ipython",
    "version": 3
   },
   "file_extension": ".py",
   "mimetype": "text/x-python",
   "name": "python",
   "nbconvert_exporter": "python",
   "pygments_lexer": "ipython3",
   "version": "3.12.4"
  }
 },
 "nbformat": 4,
 "nbformat_minor": 2
}
