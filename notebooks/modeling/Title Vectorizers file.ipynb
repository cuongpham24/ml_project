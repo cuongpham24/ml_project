{
 "cells": [
  {
   "cell_type": "code",
   "execution_count": 4,
   "metadata": {},
   "outputs": [],
   "source": [
    "## testing loading the vectorizer from disk \n",
    "import joblib\n",
    "from scipy.sparse import load_npz\n",
    "\n",
    "import spacy\n",
    "from sklearn.feature_extraction.text import TfidfVectorizer\n",
    "import pandas as pd\n",
    "\n",
    "# Load SpaCy model\n",
    "nlp = spacy.load('en_core_web_sm')\n",
    "\n",
    "# Function to lemmatize text\n",
    "def lemmatize_text(text):\n",
    "    doc = nlp(text)\n",
    "    return ' '.join([token.lemma_ for token in doc if not token.is_stop])\n",
    "\n",
    "\n",
    "# Load the vectorizer from disk - this contain the dataset TITLE columns \n",
    "vectorizer,matrix=joblib.load('tfidf_vectorizer.pkl.gz')\n",
    "\n",
    "\n"
   ]
  },
  {
   "cell_type": "code",
   "execution_count": 7,
   "metadata": {},
   "outputs": [
    {
     "name": "stdout",
     "output_type": "stream",
     "text": [
      "  (0, 789714)\t0.5653171331873702\n",
      "  (0, 741621)\t0.47235933513949374\n",
      "  (0, 681405)\t0.6762345727862401\n"
     ]
    }
   ],
   "source": [
    "# Transform new text data using the loaded vectorizer\n",
    "new_texts = [\"New data to transform.\"]\n",
    "new_tfidf_matrix = vectorizer.transform(new_texts)\n",
    "print(new_tfidf_matrix)"
   ]
  }
 ],
 "metadata": {
  "kernelspec": {
   "display_name": "myEnv",
   "language": "python",
   "name": "python3"
  },
  "language_info": {
   "codemirror_mode": {
    "name": "ipython",
    "version": 3
   },
   "file_extension": ".py",
   "mimetype": "text/x-python",
   "name": "python",
   "nbconvert_exporter": "python",
   "pygments_lexer": "ipython3",
   "version": "3.12.3"
  }
 },
 "nbformat": 4,
 "nbformat_minor": 2
}
