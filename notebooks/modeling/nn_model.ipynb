{
 "cells": [
  {
   "cell_type": "code",
   "execution_count": 1,
   "metadata": {},
   "outputs": [],
   "source": [
    "from transformers import DistilBertTokenizerFast, DistilBertModel\n",
    "import torch\n",
    "import torch.nn as nn\n",
    "import torch.optim as optim\n",
    "from torch.utils.data import DataLoader, TensorDataset, random_split\n",
    "from sklearn.metrics import accuracy_score, f1_score\n",
    "import numpy as np\n",
    "import torch.nn.functional as F\n",
    "import numpy as np\n",
    "import pandas as pd\n",
    "from math import ceil\n",
    "from numpy import load"
   ]
  },
  {
   "cell_type": "code",
   "execution_count": 2,
   "metadata": {},
   "outputs": [],
   "source": [
    "label_to_id = {\"personal_care\": 0, \"book\": 1, \"home\": 2}\n",
    "tokenizer = DistilBertTokenizerFast.from_pretrained('distilbert-base-uncased')\n",
    "model = DistilBertModel.from_pretrained('distilbert-base-uncased')"
   ]
  },
  {
   "cell_type": "code",
   "execution_count": 10,
   "metadata": {},
   "outputs": [],
   "source": [
    "def load_emb_data(file_name):\n",
    "    # load dict of arrays\n",
    "    dict_data = load(f\"../../data/processed/{file_name}.npz\")\n",
    "    # extract the first array\n",
    "    return dict_data['arr_0']\n",
    "\n",
    "# load dict of arrays\n",
    "# feature_bert_vec = load_emb_data(\"feature_bert_vec\")\n",
    "# feature_index = load_emb_data(\"feature_index\")\n",
    "# feature_label = load_emb_data(\"feature_label\")"
   ]
  },
  {
   "cell_type": "code",
   "execution_count": 25,
   "metadata": {},
   "outputs": [],
   "source": [
    "title_bert_vec = load_emb_data(\"title_bert_vec\")\n",
    "title_index = load_emb_data(\"title_index\")\n",
    "title_label = load_emb_data(\"title_label\")"
   ]
  },
  {
   "cell_type": "code",
   "execution_count": 26,
   "metadata": {},
   "outputs": [
    {
     "name": "stdout",
     "output_type": "stream",
     "text": [
      "Epoch [1/20], Loss: 0.0138\n",
      "Epoch [2/20], Loss: 0.1809\n",
      "Epoch [3/20], Loss: 0.1968\n",
      "Epoch [4/20], Loss: 0.0117\n",
      "Epoch [5/20], Loss: 0.0326\n",
      "Epoch [6/20], Loss: 0.0172\n",
      "Epoch [7/20], Loss: 0.1063\n",
      "Epoch [8/20], Loss: 0.0163\n",
      "Epoch [9/20], Loss: 0.0295\n",
      "Epoch [10/20], Loss: 0.0826\n",
      "Epoch [11/20], Loss: 0.1208\n",
      "Epoch [12/20], Loss: 0.0115\n",
      "Epoch [13/20], Loss: 0.1715\n",
      "Epoch [14/20], Loss: 0.2943\n",
      "Epoch [15/20], Loss: 0.1552\n",
      "Epoch [16/20], Loss: 0.0595\n",
      "Epoch [17/20], Loss: 0.2522\n",
      "Epoch [18/20], Loss: 0.0605\n",
      "Epoch [19/20], Loss: 0.0119\n",
      "Epoch [20/20], Loss: 0.0108\n",
      "Accuracy: 0.9790\n",
      "F1 Score: 0.9790\n"
     ]
    }
   ],
   "source": [
    "# Assuming you have `inputs` and `targets` lists\n",
    "inputs = title_bert_vec\n",
    "targets = title_label\n",
    "\n",
    "# Convert to PyTorch tensors\n",
    "inputs = torch.tensor(inputs, dtype=torch.float32)\n",
    "targets = torch.tensor(targets, dtype=torch.long)\n",
    "\n",
    "# Create dataset\n",
    "dataset = TensorDataset(inputs, targets)\n",
    "\n",
    "# Split dataset into training and testing sets (80% train, 20% test)\n",
    "train_size = int(0.8 * len(dataset))\n",
    "test_size = len(dataset) - train_size\n",
    "train_dataset, test_dataset = random_split(dataset, [train_size, test_size])\n",
    "\n",
    "# Create data loaders\n",
    "batch_size = 32\n",
    "train_loader = DataLoader(train_dataset, batch_size=batch_size, shuffle=True)\n",
    "test_loader = DataLoader(test_dataset, batch_size=batch_size, shuffle=False)\n",
    "\n",
    "# Check if GPU is available\n",
    "device = torch.device('cuda' if torch.cuda.is_available() else 'cpu')\n",
    "\n",
    "# Define the model\n",
    "class ClassificationModel(nn.Module):\n",
    "    def __init__(self, input_size, hidden_size, num_classes):\n",
    "        super(ClassificationModel, self).__init__()\n",
    "        self.dense1 = nn.Linear(input_size, hidden_size)\n",
    "        self.dropout = nn.Dropout(0.3)\n",
    "        self.lstm = nn.LSTM(hidden_size, hidden_size, batch_first=True)\n",
    "        self.dense2 = nn.Linear(hidden_size, num_classes)\n",
    "    \n",
    "    def forward(self, x):\n",
    "        # x = x.view(x.size(0), -1)\n",
    "        x = F.relu(self.dense1(x))\n",
    "        x = self.dropout(x)\n",
    "        x = x.unsqueeze(1)\n",
    "        lstm_out, _ = self.lstm(x)\n",
    "        lstm_out = lstm_out[:, -1, :]\n",
    "        out = self.dense2(lstm_out)\n",
    "        return out\n",
    "\n",
    "# Hyperparameters\n",
    "input_size = 768\n",
    "hidden_size = 128\n",
    "num_classes = 3\n",
    "num_epochs = 20\n",
    "learning_rate = 0.001\n",
    "\n",
    "# Initialize the model, loss function, and optimizer\n",
    "model = ClassificationModel(input_size, hidden_size, num_classes).to(device)\n",
    "criterion = nn.CrossEntropyLoss()\n",
    "optimizer = optim.Adam(model.parameters(), lr=learning_rate)\n",
    "\n",
    "# Training loop\n",
    "for epoch in range(num_epochs):\n",
    "    model.train()\n",
    "    for inputs, targets in train_loader:\n",
    "        inputs, targets = inputs.to(device), targets.to(device)\n",
    "        outputs = model(inputs)\n",
    "        loss = criterion(outputs, targets)\n",
    "        \n",
    "        optimizer.zero_grad()\n",
    "        loss.backward()\n",
    "        optimizer.step()\n",
    "\n",
    "    print(f'Epoch [{epoch+1}/{num_epochs}], Loss: {loss.item():.4f}')\n",
    "\n",
    "# Evaluation loop\n",
    "model.eval()\n",
    "all_targets = []\n",
    "all_predictions = []\n",
    "\n",
    "with torch.no_grad():\n",
    "    for inputs, targets in test_loader:\n",
    "        inputs, targets = inputs.to(device), targets.to(device)\n",
    "        outputs = model(inputs)\n",
    "        _, predicted = torch.max(outputs, 1)\n",
    "        all_targets.extend(targets.cpu().numpy())\n",
    "        all_predictions.extend(predicted.cpu().numpy())\n",
    "\n",
    "# Calculate accuracy and F1 score\n",
    "accuracy = accuracy_score(all_targets, all_predictions)\n",
    "f1 = f1_score(all_targets, all_predictions, average='weighted')\n",
    "\n",
    "print(f'Accuracy: {accuracy:.4f}')\n",
    "print(f'F1 Score: {f1:.4f}')\n"
   ]
  },
  {
   "cell_type": "code",
   "execution_count": 27,
   "metadata": {},
   "outputs": [
    {
     "data": {
      "text/plain": [
       "array([[193391,    808,   5181],\n",
       "       [   319, 199062,    834],\n",
       "       [  4070,   1402, 194884]], dtype=int64)"
      ]
     },
     "execution_count": 27,
     "metadata": {},
     "output_type": "execute_result"
    }
   ],
   "source": [
    "from sklearn.metrics import confusion_matrix\n",
    "\n",
    "\n",
    "confusion_matrix(all_targets, all_predictions)"
   ]
  },
  {
   "cell_type": "code",
   "execution_count": 28,
   "metadata": {},
   "outputs": [
    {
     "name": "stdout",
     "output_type": "stream",
     "text": [
      "              precision    recall  f1-score   support\n",
      "\n",
      "           0       0.98      0.97      0.97    199380\n",
      "           1       0.99      0.99      0.99    200215\n",
      "           2       0.97      0.97      0.97    200356\n",
      "\n",
      "    accuracy                           0.98    599951\n",
      "   macro avg       0.98      0.98      0.98    599951\n",
      "weighted avg       0.98      0.98      0.98    599951\n",
      "\n"
     ]
    }
   ],
   "source": [
    "from sklearn.metrics import classification_report\n",
    "\n",
    "\n",
    "print(classification_report(all_targets, all_predictions))"
   ]
  },
  {
   "cell_type": "code",
   "execution_count": 29,
   "metadata": {},
   "outputs": [],
   "source": [
    "model_path = \"../../src/models/nn_bert_feature.pth\"\n",
    "\n",
    "# Save the model's state dictionary\n",
    "torch.save(model.state_dict(), model_path)"
   ]
  },
  {
   "cell_type": "code",
   "execution_count": null,
   "metadata": {},
   "outputs": [],
   "source": []
  }
 ],
 "metadata": {
  "kernelspec": {
   "display_name": "ds",
   "language": "python",
   "name": "python3"
  },
  "language_info": {
   "codemirror_mode": {
    "name": "ipython",
    "version": 3
   },
   "file_extension": ".py",
   "mimetype": "text/x-python",
   "name": "python",
   "nbconvert_exporter": "python",
   "pygments_lexer": "ipython3",
   "version": "3.12.4"
  }
 },
 "nbformat": 4,
 "nbformat_minor": 2
}
