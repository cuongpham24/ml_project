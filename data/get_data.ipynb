{
 "cells": [
  {
   "cell_type": "code",
   "execution_count": 5,
   "metadata": {},
   "outputs": [],
   "source": [
    "import pandas as pd\n",
    "# Creating an empty DataFrame with specified columns\n",
    "df = pd.DataFrame(columns=[\"main_category\", \"title\", \"features\"])\n",
    "\n",
    "dataset = [\"meta_Beauty_and_Personal_Care\", \"meta_Books\", \"meta_Home_and_Kitchen\"]\n",
    "labels = [\"personal_care\", \"book\", \"home\"]\n",
    "column_selections = [\"main_category\", \"title\", \"features\"]\n",
    "\n",
    "index = 1\n",
    "max_size = 1000000\n",
    "sample_size = 100000\n",
    "chunks = pd.read_json(path_or_buf=f\"/Volumes/ExtremeSSD/Data/{dataset[index]}.jsonl\", lines=True, chunksize=sample_size)\n",
    "\n",
    "for id, c in enumerate(chunks):\n",
    "    c[\"features\"] = c[\"features\"].apply(lambda x: \" \".join(x))\n",
    "    c[\"main_category\"] = labels[index]\n",
    "    df = pd.concat([df, c[column_selections]])\n",
    "    if id == int(max_size / sample_size) - 1:\n",
    "        break"
   ]
  },
  {
   "cell_type": "code",
   "execution_count": 6,
   "metadata": {},
   "outputs": [],
   "source": [
    "df.to_parquet(f'{labels[index]}.parquet', compression='gzip')"
   ]
  },
  {
   "cell_type": "code",
   "execution_count": null,
   "metadata": {},
   "outputs": [],
   "source": []
  }
 ],
 "metadata": {
  "kernelspec": {
   "display_name": "Python 3",
   "language": "python",
   "name": "python3"
  },
  "language_info": {
   "codemirror_mode": {
    "name": "ipython",
    "version": 3
   },
   "file_extension": ".py",
   "mimetype": "text/x-python",
   "name": "python",
   "nbconvert_exporter": "python",
   "pygments_lexer": "ipython3",
   "version": "3.11.8"
  }
 },
 "nbformat": 4,
 "nbformat_minor": 2
}
